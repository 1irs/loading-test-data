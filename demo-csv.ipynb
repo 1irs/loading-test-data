{
 "cells": [
  {
   "cell_type": "markdown",
   "source": [
    "# Пример чтения CSV\n",
    "\n",
    "Официальная документация: [https://docs.python.org/3/library/csv.html]().\n",
    "\n",
    "Исходный текст Persons - Sheet1.csv:"
   ],
   "metadata": {
    "collapsed": false,
    "pycharm": {
     "name": "#%% md\n"
    }
   }
  },
  {
   "cell_type": "markdown",
   "source": [
    "First name,Last name,Age,Email\n",
    "John,Smith,25,john.smith@example.com\n",
    "Bob,Gale,31,bob.gale@example.com\n",
    "Marry,Johnson,29,marry.johnson@example.com"
   ],
   "metadata": {
    "collapsed": false,
    "pycharm": {
     "name": "#%% md\n"
    }
   }
  },
  {
   "cell_type": "code",
   "execution_count": null,
   "outputs": [],
   "source": [
    "# Импортируем пакет csv.\n",
    "import csv"
   ],
   "metadata": {
    "collapsed": false,
    "pycharm": {
     "name": "#%%\n"
    }
   }
  },
  {
   "cell_type": "markdown",
   "source": [
    "### Чтение CSV-файла, в котором каждая строчка таблицы — это список (list) значений:"
   ],
   "metadata": {
    "collapsed": false,
    "pycharm": {
     "name": "#%% md\n"
    }
   }
  },
  {
   "cell_type": "code",
   "execution_count": 21,
   "outputs": [
    {
     "name": "stdout",
     "output_type": "stream",
     "text": [
      "['First name', 'Last name', 'Age', 'Email']\n",
      "['John', 'Smith', '25', 'john.smith@example.com']\n",
      "['Bob', 'Gale', '31', 'bob.gale@example.com']\n",
      "['Marry', 'Johnson', '29', 'marry.johnson@example.com']\n"
     ]
    }
   ],
   "source": [
    "csv_file_name = 'test-data/Persons - Sheet1.csv'\n",
    "with open(csv_file_name) as csv_file:\n",
    "    csv_reader = csv.reader(csv_file)\n",
    "    for row in csv_reader:\n",
    "        # Здесь каждый ряд — это список с конкретным значением ячейки типа string\n",
    "        print(row)"
   ],
   "metadata": {
    "collapsed": false,
    "pycharm": {
     "name": "#%%\n"
    }
   }
  },
  {
   "cell_type": "markdown",
   "source": [
    "### Чтение CSV-файла, в котором каждая строчка таблицы — это словарь (dict) заголовок-значение:"
   ],
   "metadata": {
    "collapsed": false,
    "pycharm": {
     "name": "#%% md\n"
    }
   }
  },
  {
   "cell_type": "code",
   "execution_count": 22,
   "outputs": [
    {
     "name": "stdout",
     "output_type": "stream",
     "text": [
      "{'First name': 'John', 'Last name': 'Smith', 'Age': '25', 'Email': 'john.smith@example.com'}\n",
      "{'First name': 'Bob', 'Last name': 'Gale', 'Age': '31', 'Email': 'bob.gale@example.com'}\n",
      "{'First name': 'Marry', 'Last name': 'Johnson', 'Age': '29', 'Email': 'marry.johnson@example.com'}\n"
     ]
    }
   ],
   "source": [
    "with open('test-data/Persons - Sheet1.csv') as csv_file:\n",
    "    csv_reader = csv.DictReader(csv_file)\n",
    "    for row in csv_reader:\n",
    "        print(row)"
   ],
   "metadata": {
    "collapsed": false,
    "pycharm": {
     "name": "#%%\n"
    }
   }
  },
  {
   "cell_type": "code",
   "execution_count": 30,
   "outputs": [
    {
     "name": "stdout",
     "output_type": "stream",
     "text": [
      "John his age is 25 and email is john.smith@example.com\n",
      "Bob his age is 31 and email is bob.gale@example.com\n",
      "Marry his age is 29 and email is marry.johnson@example.com\n",
      "Petr his age is 36 and email is ivanov@example.net\n",
      "Petr his age is 36 and email is ivanov@example.net\n",
      "John his age is 100 and email is anon@example.com\n",
      "Total persons_from_csv: 6.\n"
     ]
    }
   ],
   "source": [
    "from typing import List\n",
    "from dataclasses import dataclass\n",
    "\n",
    "\n",
    "@dataclass\n",
    "class Person:\n",
    "    first_name: str\n",
    "    last_name: str\n",
    "    age: int\n",
    "    email: str\n",
    "\n",
    "persons_from_csv: List[Person] = []\n",
    "\n",
    "with open('test-data/Persons.csv') as csv_file:\n",
    "    csv_reader = csv.DictReader(csv_file)\n",
    "    for row in csv_reader:\n",
    "        # print(row)\n",
    "        person = Person(\n",
    "            first_name=row['First name'],\n",
    "            last_name=row['Last name'],\n",
    "            age=int(row['Age']),\n",
    "            email=row['Email']\n",
    "        )\n",
    "        persons_from_csv.append(person)\n",
    "\n",
    "# Кортеж.\n",
    "a = (1,2,3)\n",
    "# Список.\n",
    "l1 = [1,2,3]\n",
    "\n",
    "for person in persons_from_csv:\n",
    "    print(f\"{person.first_name} his age is {person.age} and email is {person.email}\")\n",
    "\n",
    "print(f\"Total persons_from_csv: {len(persons_from_csv)}.\")\n"
   ],
   "metadata": {
    "collapsed": false,
    "pycharm": {
     "name": "#%%\n"
    }
   }
  }
 ],
 "metadata": {
  "kernelspec": {
   "display_name": "Python 3",
   "language": "python",
   "name": "python3"
  },
  "language_info": {
   "codemirror_mode": {
    "name": "ipython",
    "version": 2
   },
   "file_extension": ".py",
   "mimetype": "text/x-python",
   "name": "python",
   "nbconvert_exporter": "python",
   "pygments_lexer": "ipython2",
   "version": "2.7.6"
  }
 },
 "nbformat": 4,
 "nbformat_minor": 0
}