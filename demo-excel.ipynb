{
 "cells": [
  {
   "cell_type": "markdown",
   "source": [
    "# Пример чтения Excel-файлов"
   ],
   "metadata": {
    "collapsed": false,
    "pycharm": {
     "name": "#%% md\n"
    }
   }
  },
  {
   "cell_type": "markdown",
   "source": [
    "Требуется установка:\n",
    "\n",
    "    pip install openpyxl\n",
    "\n",
    "Официальная документация: [https://openpyxl.readthedocs.io/en/stable/]()"
   ],
   "metadata": {
    "collapsed": false,
    "pycharm": {
     "name": "#%% md\n"
    }
   }
  },
  {
   "cell_type": "markdown",
   "source": [
    "## Чтение Excel-файла"
   ],
   "metadata": {
    "collapsed": false,
    "pycharm": {
     "name": "#%% md\n"
    }
   }
  },
  {
   "cell_type": "code",
   "execution_count": 24,
   "outputs": [
    {
     "name": "stdout",
     "output_type": "stream",
     "text": [
      "Имя первой вкладки: Sheet1\n"
     ]
    }
   ],
   "source": [
    "from openpyxl.worksheet.worksheet import Worksheet\n",
    "from openpyxl import load_workbook, Workbook\n",
    "\n",
    "workbook: Workbook = load_workbook(\n",
    "    filename='test-data/Persons.xlsx',\n",
    "    read_only=False\n",
    ")\n",
    "first_sheet: Worksheet = workbook.worksheets[0]\n",
    "print('Имя первой вкладки:', first_sheet.title)"
   ],
   "metadata": {
    "collapsed": false,
    "pycharm": {
     "name": "#%%\n"
    }
   }
  },
  {
   "cell_type": "code",
   "execution_count": 29,
   "outputs": [
    {
     "name": "stdout",
     "output_type": "stream",
     "text": [
      "['First name', 'Last name', 'Age', 'Email']\n",
      "['John', 'Smith', 25, 'john.smith@example.com']\n",
      "['Bob', 'Gale', 31, 'bob.gale@example.com']\n",
      "['Marry', 'Johnson', 29, 'marry.johnson@example.com']\n"
     ]
    }
   ],
   "source": [
    "from dataclasses import dataclass\n",
    "from typing import List\n",
    "\n",
    "datarows = []\n",
    "for row in first_sheet.rows:\n",
    "    # Каждый рядок — это кортеж (tuple) где каждый элемент — класс Cell.\n",
    "    values: List = [cell.value for cell in row]\n",
    "    datarows.append(values)\n",
    "\n",
    "for row in datarows:\n",
    "    print(row)"
   ],
   "metadata": {
    "collapsed": false,
    "pycharm": {
     "name": "#%%\n"
    }
   }
  },
  {
   "cell_type": "code",
   "execution_count": 30,
   "outputs": [
    {
     "name": "stdout",
     "output_type": "stream",
     "text": [
      "Person(first_name='John', last_name='Smith', age=25, email='john.smith@example.com')\n",
      "Person(first_name='Bob', last_name='Gale', age=31, email='bob.gale@example.com')\n",
      "Person(first_name='Marry', last_name='Johnson', age=29, email='marry.johnson@example.com')\n"
     ]
    }
   ],
   "source": [
    "@dataclass\n",
    "class Person:\n",
    "    first_name: str\n",
    "    last_name: str\n",
    "    age: int\n",
    "    email: str\n",
    "\n",
    "persons: List[Person] = []\n",
    "\n",
    "for values in datarows[1:]:\n",
    "    person = Person(\n",
    "        first_name=values[0],\n",
    "        last_name=values[1],\n",
    "        age=values[2],\n",
    "        email=values[3]\n",
    "    )\n",
    "    persons.append(person)\n",
    "\n",
    "for person in persons:\n",
    "    print(person)"
   ],
   "metadata": {
    "collapsed": false,
    "pycharm": {
     "name": "#%%\n"
    }
   }
  }
 ],
 "metadata": {
  "kernelspec": {
   "display_name": "Python 3",
   "language": "python",
   "name": "python3"
  },
  "language_info": {
   "codemirror_mode": {
    "name": "ipython",
    "version": 2
   },
   "file_extension": ".py",
   "mimetype": "text/x-python",
   "name": "python",
   "nbconvert_exporter": "python",
   "pygments_lexer": "ipython2",
   "version": "2.7.6"
  }
 },
 "nbformat": 4,
 "nbformat_minor": 0
}