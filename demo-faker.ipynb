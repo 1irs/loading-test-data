{
 "cells": [
  {
   "cell_type": "markdown",
   "source": [],
   "metadata": {
    "collapsed": false,
    "pycharm": {
     "name": "#%% md\n"
    }
   }
  },
  {
   "cell_type": "code",
   "execution_count": 15,
   "outputs": [
    {
     "name": "stdout",
     "output_type": "stream",
     "text": [
      "Jaime Flores\n",
      "Michelle Clark\n",
      "David Grant\n",
      "Tyler Willis\n",
      "Chelsea Bailey\n",
      "Richard Thomas\n",
      "Gary Morris\n",
      "Jonathan Klein MD\n",
      "Terry Sanders\n",
      "Tina Miller\n"
     ]
    }
   ],
   "source": [
    "from faker import Faker\n",
    "\n",
    "\n",
    "fake = Faker()\n",
    "\n",
    "# Вымышленное имя.\n",
    "for _ in range(10):\n",
    "    print(fake.name())"
   ],
   "metadata": {
    "collapsed": false,
    "pycharm": {
     "name": "#%%\n"
    }
   }
  },
  {
   "cell_type": "code",
   "execution_count": 21,
   "outputs": [
    {
     "data": {
      "text/plain": "'957.667.7179x3792'"
     },
     "execution_count": 21,
     "metadata": {},
     "output_type": "execute_result"
    }
   ],
   "source": [
    "# Вымышленное телефонное имя.\n",
    "fake.phone_number()"
   ],
   "metadata": {
    "collapsed": false,
    "pycharm": {
     "name": "#%%\n"
    }
   }
  },
  {
   "cell_type": "code",
   "execution_count": 22,
   "outputs": [
    {
     "name": "stdout",
     "output_type": "stream",
     "text": [
      "363 Rice Mall Apt. 562\n",
      "East Kellyfort, ND 26010\n"
     ]
    }
   ],
   "source": [
    "# Вымышленный адрес.\n",
    "print(fake.address())"
   ],
   "metadata": {
    "collapsed": false,
    "pycharm": {
     "name": "#%%\n"
    }
   }
  },
  {
   "cell_type": "code",
   "execution_count": 37,
   "outputs": [
    {
     "data": {
      "text/plain": "'garciakimberly@example.net'"
     },
     "execution_count": 37,
     "metadata": {},
     "output_type": "execute_result"
    }
   ],
   "source": [
    "# Вымышленный имейл.\n",
    "fake.email()"
   ],
   "metadata": {
    "collapsed": false,
    "pycharm": {
     "name": "#%%\n"
    }
   }
  },
  {
   "cell_type": "code",
   "execution_count": 38,
   "outputs": [
    {
     "name": "stdout",
     "output_type": "stream",
     "text": [
      "Богуслава Саченко\n",
      "Амалія Червоненко\n",
      "Данило Жученко\n",
      "Омелян Цюцюра\n",
      "Феофан Токар\n",
      "Августин Заруба\n",
      "Еріка Дубенко\n",
      "Сергій Безбородько\n",
      "Пріска Павлик\n",
      "Богуслав Журба\n"
     ]
    }
   ],
   "source": [
    "# Локализация.\n",
    "fake_uk = Faker('uk_UA')\n",
    "for _ in range(10):\n",
    "    print(fake_uk.name())"
   ],
   "metadata": {
    "collapsed": false,
    "pycharm": {
     "name": "#%%\n"
    }
   }
  },
  {
   "cell_type": "code",
   "execution_count": 39,
   "outputs": [
    {
     "name": "stdout",
     "output_type": "stream",
     "text": [
      "pani Julianna Piątkiewicz\n",
      "pani Sandra Basista\n",
      "Sonia Trochimiuk\n",
      "Julita Potok\n",
      "Olgierd Wojtyś\n",
      "Jerzy Piotrkowicz\n",
      "pan Jędrzej Nehring\n",
      "Ignacy Brzeźniak\n",
      "Marianna Pietryga\n",
      "Fabian Parzonka\n"
     ]
    }
   ],
   "source": [
    "fake_uk = Faker('pl_PL')\n",
    "for _ in range(10):\n",
    "    print(fake_uk.name())"
   ],
   "metadata": {
    "collapsed": false,
    "pycharm": {
     "name": "#%%\n"
    }
   }
  },
  {
   "cell_type": "code",
   "execution_count": 40,
   "outputs": [
    {
     "name": "stdout",
     "output_type": "stream",
     "text": [
      "сквер Степова, буд. 59, Сарни, 61169\n",
      "проспект Палія Семена, буд. 78 кв. 0, Жданівка, 66904\n",
      "вулиця Лідерсівський, буд. 55, Бахмач, 43301\n",
      "проспект Мазараті, буд. 59, Кропивницький, 66440\n",
      "провулок Артилерійська, буд. 8 кв. 91, Сокаль, 34986\n",
      "сквер Посівна, буд. 50, Апостолове, 107334\n",
      "проспект Лютневий 1-й, буд. 89, Тальне, 27049\n",
      "набережна Селекційний, буд. 43, Заводське, 89143\n",
      "провулок Олександра Стурдзи, буд. 22 кв. 448, Покров, 19193\n",
      "провулок Новаторів, буд. 95, Ватутіне, 25462\n"
     ]
    }
   ],
   "source": [
    "fake_uk = Faker('uk_UA')\n",
    "for _ in range(10):\n",
    "    print(fake_uk.address())"
   ],
   "metadata": {
    "collapsed": false,
    "pycharm": {
     "name": "#%%\n"
    }
   }
  }
 ],
 "metadata": {
  "kernelspec": {
   "display_name": "Python 3",
   "language": "python",
   "name": "python3"
  },
  "language_info": {
   "codemirror_mode": {
    "name": "ipython",
    "version": 2
   },
   "file_extension": ".py",
   "mimetype": "text/x-python",
   "name": "python",
   "nbconvert_exporter": "python",
   "pygments_lexer": "ipython2",
   "version": "2.7.6"
  }
 },
 "nbformat": 4,
 "nbformat_minor": 0
}